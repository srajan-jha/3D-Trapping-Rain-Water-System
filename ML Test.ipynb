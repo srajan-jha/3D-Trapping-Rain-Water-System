{
 "cells": [
  {
   "cell_type": "code",
   "execution_count": 1,
   "metadata": {},
   "outputs": [],
   "source": [
    "import heapq\n",
    "import numpy as np"
   ]
  },
  {
   "cell_type": "code",
   "execution_count": 2,
   "metadata": {
    "colab": {},
    "colab_type": "code",
    "id": "HOsgJHv1mupX"
   },
   "outputs": [],
   "source": [
    "def testFile():   \n",
    "    \"\"\" Tests the WaterStoredInPlatform(array) on 5 testcases.\n",
    "    \n",
    "    Returns\n",
    "    ----------\n",
    "    message : string type\n",
    "        if compiled successfully\n",
    "    \n",
    "    Note - Error Message\n",
    "    --------------------\n",
    "        raises AssertionError if any testcase NOT passed successfully\n",
    "        with the value of testcase NOT passed    \n",
    "    \n",
    "    \"\"\"\n",
    "    \n",
    "    # contains every test case defined as under\n",
    "    testcase = []\n",
    "    \n",
    "    test1 = [[2 , 2 , 2],\n",
    "             [2 , 2 , 2],\n",
    "             [2 , 2 , 2]]    \n",
    "    testcase.append(test1)\n",
    "    \n",
    "    test2 = [[2 , 2 , 2 , 2],\n",
    "             [2 , 1 , 2 , 1],\n",
    "             [2 , 2 , 2 , 1]]\n",
    "    testcase.append(test2)\n",
    "    \n",
    "    test3 = [[3, 3, 3, 3, 3, 3],\n",
    "             [3, 1, 2, 3, 1, 3],\n",
    "             [3, 1, 2, 3, 1, 3],\n",
    "             [3, 3, 3, 1, 3, 3]]\n",
    "    testcase.append(test3)\n",
    "    \n",
    "    test4 = [[5, 5, 5, 5, 5],\n",
    "             [9, 1, 1, 1, 5],\n",
    "             [5, 1, 5, 1, 5],\n",
    "             [5, 1, 1, 1, 5],\n",
    "             [5, 5, 5, 5, 5]]\n",
    "    testcase.append(test4)\n",
    "    \n",
    "    test5 = [[3, 3, 3, 3, 5, 3],\n",
    "             [3, 0, 2, 3, 1, 3],\n",
    "             [3, 1, 2, 3, 1, 3],\n",
    "             [3, 3, 3, 1, 3, 3]]\n",
    "    testcase.append(test5)\n",
    "            \n",
    "    # precomputed answers for each testcase\n",
    "    answers = [0, 1, 10, 32, 4]\n",
    "    \n",
    "    # loop calling WaterStoreInPlatform() with each test case and checking on with the answers\n",
    "    for i in range(5):\n",
    "        assert WaterStoredInPlatform(testcase[i]) == answers[i], \"Test Case \" + str(i + 1) + \" Failed!\"\n",
    "        \n",
    "    return \"Test Cases Passed Succesfully!\""
   ]
  },
  {
   "cell_type": "code",
   "execution_count": 3,
   "metadata": {},
   "outputs": [],
   "source": [
    "def WaterStoredInPlatform(platform):\n",
    "        \"\"\" Computes water trapped in a 3D block of platform.\n",
    "        \n",
    "        Parameters\n",
    "        ----------\n",
    "        platform : list[list(int)] type\n",
    "            2D array of shape (m,n)\n",
    "        \n",
    "        Returns\n",
    "        -------\n",
    "        waterTrapped : int type\n",
    "                    amount of water trapped in units\n",
    "                       \n",
    "        \"\"\"\n",
    "        \n",
    "        # converting into numpy array for further uses\n",
    "        platform = np.array(platform)\n",
    "        \n",
    "        ### defining useful variables ###\n",
    "        # m, n -> shape of 2D numpy array\n",
    "        # heap -> min heap initialized with an empty list\n",
    "        # visited -> numpy array of shape (m,n) takes account of the visited elements in the platform\n",
    "        m, n = platform.shape\n",
    "        heap, waterTrapped, visited = [], 0, np.zeros((m,n))\n",
    "        \n",
    "        # visiting all the boundary and drain \"0\" elements of the platform\n",
    "        # and pushing them into the min heap\n",
    "        for i in range(m):\n",
    "            for j in range(n):\n",
    "                if i in [0, m - 1] or j in [0, n - 1] or platform[i][j] == 0:\n",
    "                    heapq.heappush(heap, (platform[i][j], i, j))\n",
    "                    visited[i][j] = 1        \n",
    "         \n",
    "        while heap:                                        # while heap is NOT empty\n",
    "        \n",
    "            # getting last entries from the min heap\n",
    "            height, i, j = heapq.heappop(heap)           \n",
    "            \n",
    "            # visit all the neighbouring unvisited entries \n",
    "            for x, y in ((i - 1, j), (i + 1, j), (i, j + 1),(i, j - 1)):\n",
    "                if 0 < x < m - 1 and 0 < y < n - 1 and not visited[x][y]:  \n",
    "                \n",
    "                    ### Calculating waterTrapped ###\n",
    "                    # waterTrapped = (max height of neighbouring blocks - height of current block) or \"0\" if can't be trapped\n",
    "                    waterTrapped += max(height - platform[x][y], 0)\n",
    "                    \n",
    "                    # pushing visited elements into heap with required entries\n",
    "                    heapq.heappush(heap, (max(platform[x][y], height), x, y))                   \n",
    "                    visited[x][y] = 1                    \n",
    "                    \n",
    "        return waterTrapped"
   ]
  },
  {
   "cell_type": "code",
   "execution_count": 4,
   "metadata": {
    "colab": {},
    "colab_type": "code",
    "id": "sG4HlqZQmuow"
   },
   "outputs": [
    {
     "data": {
      "text/plain": [
       "'Test Cases Passed Succesfully!'"
      ]
     },
     "execution_count": 4,
     "metadata": {},
     "output_type": "execute_result"
    }
   ],
   "source": [
    "testFile()"
   ]
  },
  {
   "cell_type": "code",
   "execution_count": null,
   "metadata": {},
   "outputs": [],
   "source": []
  },
  {
   "cell_type": "code",
   "execution_count": null,
   "metadata": {},
   "outputs": [],
   "source": []
  },
  {
   "cell_type": "code",
   "execution_count": 5,
   "metadata": {},
   "outputs": [],
   "source": [
    "arr = [[3, 3, 3, 3, 5, 3],\n",
    "       [3, 0, 2, 3, 1, 3],\n",
    "       [3, 1, 2, 3, 1, 3],\n",
    "       [3, 3, 3, 1, 3, 3]]"
   ]
  },
  {
   "cell_type": "code",
   "execution_count": 6,
   "metadata": {},
   "outputs": [
    {
     "name": "stdout",
     "output_type": "stream",
     "text": [
      "Maximum water that can be accumulated is 4 units.\n"
     ]
    }
   ],
   "source": [
    "print(\"Maximum water that can be accumulated is\", WaterStoredInPlatform(arr), \"units.\")"
   ]
  },
  {
   "cell_type": "code",
   "execution_count": 7,
   "metadata": {},
   "outputs": [],
   "source": [
    "arr2 = [[1,4,3,1,3,2],\n",
    "        [3,2,1,3,2,4],\n",
    "        [2,3,3,2,3,1]]"
   ]
  },
  {
   "cell_type": "code",
   "execution_count": 8,
   "metadata": {},
   "outputs": [
    {
     "name": "stdout",
     "output_type": "stream",
     "text": [
      "Maximum water that can be accumulated is 4 units.\n"
     ]
    }
   ],
   "source": [
    "print(\"Maximum water that can be accumulated is\", WaterStoredInPlatform(arr2), \"units.\")"
   ]
  },
  {
   "cell_type": "code",
   "execution_count": 9,
   "metadata": {},
   "outputs": [],
   "source": [
    "arr3 = [[12,13,1,12],\n",
    "[13,4,13,12],\n",
    "[13,8,10,12],\n",
    "[12,13,12,12],\n",
    "[13,13,13,13]]"
   ]
  },
  {
   "cell_type": "code",
   "execution_count": 10,
   "metadata": {},
   "outputs": [
    {
     "name": "stdout",
     "output_type": "stream",
     "text": [
      "Maximum water that can be accumulated is 14 units.\n"
     ]
    }
   ],
   "source": [
    "print(\"Maximum water that can be accumulated is\", WaterStoredInPlatform(arr3), \"units.\")"
   ]
  }
 ],
 "metadata": {
  "colab": {
   "collapsed_sections": [],
   "name": "Avantari ML Test.ipynb",
   "provenance": [],
   "version": "0.3.2"
  },
  "kernelspec": {
   "display_name": "Python 3",
   "language": "python",
   "name": "python3"
  },
  "language_info": {
   "codemirror_mode": {
    "name": "ipython",
    "version": 3
   },
   "file_extension": ".py",
   "mimetype": "text/x-python",
   "name": "python",
   "nbconvert_exporter": "python",
   "pygments_lexer": "ipython3",
   "version": "3.7.1"
  }
 },
 "nbformat": 4,
 "nbformat_minor": 1
}
